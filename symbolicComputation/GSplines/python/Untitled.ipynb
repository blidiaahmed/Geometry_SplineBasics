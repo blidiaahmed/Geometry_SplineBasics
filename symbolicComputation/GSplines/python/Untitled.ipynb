{
 "cells": [
  {
   "cell_type": "code",
   "execution_count": 1,
   "id": "acd536e0",
   "metadata": {
    "scrolled": true
   },
   "outputs": [
    {
     "ename": "ModuleNotFoundError",
     "evalue": "No module named 'scipy'",
     "output_type": "error",
     "traceback": [
      "\u001b[1;31m---------------------------------------------------------------------------\u001b[0m",
      "\u001b[1;31mModuleNotFoundError\u001b[0m                       Traceback (most recent call last)",
      "\u001b[1;32mc:\\Users\\Utilisateur\\source\\repos\\MazghanaGeometry\\symbolicComputation\\GSplines\\python\\Untitled.ipynb Cellule 1\u001b[0m in \u001b[0;36m<cell line: 3>\u001b[1;34m()\u001b[0m\n\u001b[0;32m      <a href='vscode-notebook-cell:/c%3A/Users/Utilisateur/source/repos/MazghanaGeometry/symbolicComputation/GSplines/python/Untitled.ipynb#ch0000000?line=0'>1</a>\u001b[0m get_ipython()\u001b[39m.\u001b[39mrun_line_magic(\u001b[39m'\u001b[39m\u001b[39mload_ext\u001b[39m\u001b[39m'\u001b[39m, \u001b[39m'\u001b[39m\u001b[39mautoreload\u001b[39m\u001b[39m'\u001b[39m)\n\u001b[0;32m      <a href='vscode-notebook-cell:/c%3A/Users/Utilisateur/source/repos/MazghanaGeometry/symbolicComputation/GSplines/python/Untitled.ipynb#ch0000000?line=1'>2</a>\u001b[0m get_ipython()\u001b[39m.\u001b[39mrun_line_magic(\u001b[39m'\u001b[39m\u001b[39mautoreload\u001b[39m\u001b[39m'\u001b[39m, \u001b[39m'\u001b[39m\u001b[39m2\u001b[39m\u001b[39m'\u001b[39m)\n\u001b[1;32m----> <a href='vscode-notebook-cell:/c%3A/Users/Utilisateur/source/repos/MazghanaGeometry/symbolicComputation/GSplines/python/Untitled.ipynb#ch0000000?line=2'>3</a>\u001b[0m \u001b[39mfrom\u001b[39;00m \u001b[39mtransitionMaps\u001b[39;00m \u001b[39mimport\u001b[39;00m \u001b[39m*\u001b[39m\n",
      "File \u001b[1;32mc:\\Users\\Utilisateur\\source\\repos\\MazghanaGeometry\\symbolicComputation\\GSplines\\python\\transitionMaps.py:2\u001b[0m, in \u001b[0;36m<module>\u001b[1;34m\u001b[0m\n\u001b[0;32m      1\u001b[0m \u001b[39mfrom\u001b[39;00m \u001b[39msymtable\u001b[39;00m \u001b[39mimport\u001b[39;00m Symbol\n\u001b[1;32m----> 2\u001b[0m \u001b[39mfrom\u001b[39;00m \u001b[39mBezierFunction\u001b[39;00m \u001b[39mimport\u001b[39;00m Bezier\n\u001b[0;32m      3\u001b[0m \u001b[39mimport\u001b[39;00m \u001b[39mnumpy\u001b[39;00m \u001b[39mas\u001b[39;00m \u001b[39mnp\u001b[39;00m \n\u001b[0;32m      4\u001b[0m \u001b[39mfrom\u001b[39;00m \u001b[39msympy\u001b[39;00m \u001b[39mimport\u001b[39;00m \u001b[39m*\u001b[39m\n",
      "File \u001b[1;32mc:\\Users\\Utilisateur\\source\\repos\\MazghanaGeometry\\symbolicComputation\\GSplines\\python\\BezierFunction.py:2\u001b[0m, in \u001b[0;36m<module>\u001b[1;34m\u001b[0m\n\u001b[0;32m      1\u001b[0m \u001b[39m#define the bezier functions\u001b[39;00m\n\u001b[1;32m----> 2\u001b[0m \u001b[39mimport\u001b[39;00m \u001b[39mscipy\u001b[39;00m\u001b[39m.\u001b[39;00m\u001b[39mspecial\u001b[39;00m\n\u001b[0;32m      3\u001b[0m \u001b[39mfrom\u001b[39;00m \u001b[39mhelperFile\u001b[39;00m \u001b[39mimport\u001b[39;00m \u001b[39m*\u001b[39m\n\u001b[0;32m      5\u001b[0m \u001b[39mdef\u001b[39;00m \u001b[39mBezier\u001b[39m(i,n,x):\n",
      "\u001b[1;31mModuleNotFoundError\u001b[0m: No module named 'scipy'"
     ]
    }
   ],
   "source": [
    "%load_ext autoreload\n",
    "%autoreload 2\n",
    "from transitionMaps import *\n"
   ]
  },
  {
   "cell_type": "code",
   "execution_count": null,
   "id": "f6dd7a54",
   "metadata": {},
   "outputs": [
    {
     "ename": "",
     "evalue": "",
     "output_type": "error",
     "traceback": [
      "\u001b[1;31mLes cellules en cours d’exécution avec Python 3.9.5 nécessitent ipykernel package.\n",
      "Exécutez la commande suivante pour installer 'ipykernel' dans l’environnement Python. \r\n",
      "Commande : 'conda install -p c:\\Users\\Utilisateur\\.julia\\conda\\3 ipykernel --update-deps --force-reinstall'"
     ]
    }
   ],
   "source": [
    "!conda install -p c:\\Users\\Utilisateur\\.julia\\conda\\3 ipykernel --update-deps --force-reinstall\n"
   ]
  },
  {
   "cell_type": "code",
   "execution_count": 13,
   "id": "8451bd9d",
   "metadata": {},
   "outputs": [
    {
     "data": {
      "text/latex": [
       "$\\displaystyle \\operatorname{Poly}{\\left( 2 f_{0,1} - 2 f_{0,2} - 4 g_{0,0}φ_1_{0,1}φ_1_{0,2}φ_2_{0,2}^{2} + 8 g_{0,0}φ_1_{0,1}φ_1_{0,2}φ_2_{0,2} - 4 g_{0,0}φ_1_{0,1}φ_1_{0,2} + 4 g_{0,0}φ_1_{0,1}φ_2_{0,2}^{2} - 8 g_{0,0}φ_1_{0,1}φ_2_{0,2} + 4 g_{0,0}φ_1_{0,1} - 4 g_{0,0}φ_1_{0,2}^{2}φ_2_{0,1}φ_2_{0,2} + 4 g_{0,0}φ_1_{0,2}^{2}φ_2_{0,1} + 8 g_{0,0}φ_1_{0,2}^{2}φ_2_{0,2}^{2} - 12 g_{0,0}φ_1_{0,2}^{2}φ_2_{0,2} + 4 g_{0,0}φ_1_{0,2}^{2} + 8 g_{0,0}φ_1_{0,2}φ_2_{0,1}φ_2_{0,2} - 8 g_{0,0}φ_1_{0,2}φ_2_{0,1} - 12 g_{0,0}φ_1_{0,2}φ_2_{0,2}^{2} + 16 g_{0,0}φ_1_{0,2}φ_2_{0,2} - 4 g_{0,0}φ_1_{0,2} - 4 g_{0,0}φ_2_{0,1}φ_2_{0,2} + 4 g_{0,0}φ_2_{0,1} + 4 g_{0,0}φ_2_{0,2}^{2} - 4 g_{0,0}φ_2_{0,2} + 8 g_{0,1}φ_1_{0,1}φ_1_{0,2}φ_2_{0,2}^{2} - 16 g_{0,1}φ_1_{0,1}φ_1_{0,2}φ_2_{0,2} + 8 g_{0,1}φ_1_{0,1}φ_1_{0,2} - 4 g_{0,1}φ_1_{0,1}φ_2_{0,2}^{2} + 8 g_{0,1}φ_1_{0,1}φ_2_{0,2} - 4 g_{0,1}φ_1_{0,1} + 8 g_{0,1}φ_1_{0,2}^{2}φ_2_{0,1}φ_2_{0,2} - 8 g_{0,1}φ_1_{0,2}^{2}φ_2_{0,1} - 16 g_{0,1}φ_1_{0,2}^{2}φ_2_{0,2}^{2} + 24 g_{0,1}φ_1_{0,2}^{2}φ_2_{0,2} - 8 g_{0,1}φ_1_{0,2}^{2} - 8 g_{0,1}φ_1_{0,2}φ_2_{0,1}φ_2_{0,2} + 8 g_{0,1}φ_1_{0,2}φ_2_{0,1} + 12 g_{0,1}φ_1_{0,2}φ_2_{0,2}^{2} - 16 g_{0,1}φ_1_{0,2}φ_2_{0,2} + 4 g_{0,1}φ_1_{0,2} - 4 g_{0,2}φ_1_{0,1}φ_1_{0,2}φ_2_{0,2}^{2} + 8 g_{0,2}φ_1_{0,1}φ_1_{0,2}φ_2_{0,2} - 4 g_{0,2}φ_1_{0,1}φ_1_{0,2} - 4 g_{0,2}φ_1_{0,2}^{2}φ_2_{0,1}φ_2_{0,2} + 4 g_{0,2}φ_1_{0,2}^{2}φ_2_{0,1} + 8 g_{0,2}φ_1_{0,2}^{2}φ_2_{0,2}^{2} - 12 g_{0,2}φ_1_{0,2}^{2}φ_2_{0,2} + 4 g_{0,2}φ_1_{0,2}^{2} + 8 g_{1,0}φ_1_{0,1}φ_1_{0,2}φ_2_{0,2}^{2} - 8 g_{1,0}φ_1_{0,1}φ_1_{0,2}φ_2_{0,2} - 8 g_{1,0}φ_1_{0,1}φ_2_{0,2}^{2} + 8 g_{1,0}φ_1_{0,1}φ_2_{0,2} + 8 g_{1,0}φ_1_{0,2}^{2}φ_2_{0,1}φ_2_{0,2} - 4 g_{1,0}φ_1_{0,2}^{2}φ_2_{0,1} - 16 g_{1,0}φ_1_{0,2}^{2}φ_2_{0,2}^{2} + 12 g_{1,0}φ_1_{0,2}^{2}φ_2_{0,2} - 16 g_{1,0}φ_1_{0,2}φ_2_{0,1}φ_2_{0,2} + 8 g_{1,0}φ_1_{0,2}φ_2_{0,1} + 24 g_{1,0}φ_1_{0,2}φ_2_{0,2}^{2} - 16 g_{1,0}φ_1_{0,2}φ_2_{0,2} + 8 g_{1,0}φ_2_{0,1}φ_2_{0,2} - 4 g_{1,0}φ_2_{0,1} - 8 g_{1,0}φ_2_{0,2}^{2} + 4 g_{1,0}φ_2_{0,2} - 16 g_{1,1}φ_1_{0,1}φ_1_{0,2}φ_2_{0,2}^{2} + 16 g_{1,1}φ_1_{0,1}φ_1_{0,2}φ_2_{0,2} + 8 g_{1,1}φ_1_{0,1}φ_2_{0,2}^{2} - 8 g_{1,1}φ_1_{0,1}φ_2_{0,2} - 16 g_{1,1}φ_1_{0,2}^{2}φ_2_{0,1}φ_2_{0,2} + 8 g_{1,1}φ_1_{0,2}^{2}φ_2_{0,1} + 32 g_{1,1}φ_1_{0,2}^{2}φ_2_{0,2}^{2} - 24 g_{1,1}φ_1_{0,2}^{2}φ_2_{0,2} + 16 g_{1,1}φ_1_{0,2}φ_2_{0,1}φ_2_{0,2} - 8 g_{1,1}φ_1_{0,2}φ_2_{0,1} - 24 g_{1,1}φ_1_{0,2}φ_2_{0,2}^{2} + 16 g_{1,1}φ_1_{0,2}φ_2_{0,2} + 8 g_{1,2}φ_1_{0,1}φ_1_{0,2}φ_2_{0,2}^{2} - 8 g_{1,2}φ_1_{0,1}φ_1_{0,2}φ_2_{0,2} + 8 g_{1,2}φ_1_{0,2}^{2}φ_2_{0,1}φ_2_{0,2} - 4 g_{1,2}φ_1_{0,2}^{2}φ_2_{0,1} - 16 g_{1,2}φ_1_{0,2}^{2}φ_2_{0,2}^{2} + 12 g_{1,2}φ_1_{0,2}^{2}φ_2_{0,2} - 4 g_{2,0}φ_1_{0,1}φ_1_{0,2}φ_2_{0,2}^{2} + 4 g_{2,0}φ_1_{0,1}φ_2_{0,2}^{2} - 4 g_{2,0}φ_1_{0,2}^{2}φ_2_{0,1}φ_2_{0,2} + 8 g_{2,0}φ_1_{0,2}^{2}φ_2_{0,2}^{2} + 8 g_{2,0}φ_1_{0,2}φ_2_{0,1}φ_2_{0,2} - 12 g_{2,0}φ_1_{0,2}φ_2_{0,2}^{2} - 4 g_{2,0}φ_2_{0,1}φ_2_{0,2} + 4 g_{2,0}φ_2_{0,2}^{2} + 8 g_{2,1}φ_1_{0,1}φ_1_{0,2}φ_2_{0,2}^{2} - 4 g_{2,1}φ_1_{0,1}φ_2_{0,2}^{2} + 8 g_{2,1}φ_1_{0,2}^{2}φ_2_{0,1}φ_2_{0,2} - 16 g_{2,1}φ_1_{0,2}^{2}φ_2_{0,2}^{2} - 8 g_{2,1}φ_1_{0,2}φ_2_{0,1}φ_2_{0,2} + 12 g_{2,1}φ_1_{0,2}φ_2_{0,2}^{2} - 4 g_{2,2}φ_1_{0,1}φ_1_{0,2}φ_2_{0,2}^{2} - 4 g_{2,2}φ_1_{0,2}^{2}φ_2_{0,1}φ_2_{0,2} + 8 g_{2,2}φ_1_{0,2}^{2}φ_2_{0,2}^{2}, f_{0,1}, f_{0,2}, g_{0,0}, g_{0,1}, g_{0,2}, g_{1,0}, g_{1,1}, g_{1,2}, g_{2,0}, g_{2,1}, g_{2,2}, φ_1_{0,1}, φ_1_{0,2}, φ_2_{0,1}, φ_2_{0,2}, domain=\\mathbb{Z} \\right)}$"
      ],
      "text/plain": [
       "Poly(2*f_{0,1} - 2*f_{0,2} - 4*g_{0,0}*φ_1_{0,1}*φ_1_{0,2}*φ_2_{0,2}**2 + 8*g_{0,0}*φ_1_{0,1}*φ_1_{0,2}*φ_2_{0,2} - 4*g_{0,0}*φ_1_{0,1}*φ_1_{0,2} + 4*g_{0,0}*φ_1_{0,1}*φ_2_{0,2}**2 - 8*g_{0,0}*φ_1_{0,1}*φ_2_{0,2} + 4*g_{0,0}*φ_1_{0,1} - 4*g_{0,0}*φ_1_{0,2}**2*φ_2_{0,1}*φ_2_{0,2} + 4*g_{0,0}*φ_1_{0,2}**2*φ_2_{0,1} + 8*g_{0,0}*φ_1_{0,2}**2*φ_2_{0,2}**2 - 12*g_{0,0}*φ_1_{0,2}**2*φ_2_{0,2} + 4*g_{0,0}*φ_1_{0,2}**2 + 8*g_{0,0}*φ_1_{0,2}*φ_2_{0,1}*φ_2_{0,2} - 8*g_{0,0}*φ_1_{0,2}*φ_2_{0,1} - 12*g_{0,0}*φ_1_{0,2}*φ_2_{0,2}**2 + 16*g_{0,0}*φ_1_{0,2}*φ_2_{0,2} - 4*g_{0,0}*φ_1_{0,2} - 4*g_{0,0}*φ_2_{0,1}*φ_2_{0,2} + 4*g_{0,0}*φ_2_{0,1} + 4*g_{0,0}*φ_2_{0,2}**2 - 4*g_{0,0}*φ_2_{0,2} + 8*g_{0,1}*φ_1_{0,1}*φ_1_{0,2}*φ_2_{0,2}**2 - 16*g_{0,1}*φ_1_{0,1}*φ_1_{0,2}*φ_2_{0,2} + 8*g_{0,1}*φ_1_{0,1}*φ_1_{0,2} - 4*g_{0,1}*φ_1_{0,1}*φ_2_{0,2}**2 + 8*g_{0,1}*φ_1_{0,1}*φ_2_{0,2} - 4*g_{0,1}*φ_1_{0,1} + 8*g_{0,1}*φ_1_{0,2}**2*φ_2_{0,1}*φ_2_{0,2} - 8*g_{0,1}*φ_1_{0,2}**2*φ_2_{0,1} - 16*g_{0,1}*φ_1_{0,2}**2*φ_2_{0,2}**2 + 24*g_{0,1}*φ_1_{0,2}**2*φ_2_{0,2} - 8*g_{0,1}*φ_1_{0,2}**2 - 8*g_{0,1}*φ_1_{0,2}*φ_2_{0,1}*φ_2_{0,2} + 8*g_{0,1}*φ_1_{0,2}*φ_2_{0,1} + 12*g_{0,1}*φ_1_{0,2}*φ_2_{0,2}**2 - 16*g_{0,1}*φ_1_{0,2}*φ_2_{0,2} + 4*g_{0,1}*φ_1_{0,2} - 4*g_{0,2}*φ_1_{0,1}*φ_1_{0,2}*φ_2_{0,2}**2 + 8*g_{0,2}*φ_1_{0,1}*φ_1_{0,2}*φ_2_{0,2} - 4*g_{0,2}*φ_1_{0,1}*φ_1_{0,2} - 4*g_{0,2}*φ_1_{0,2}**2*φ_2_{0,1}*φ_2_{0,2} + 4*g_{0,2}*φ_1_{0,2}**2*φ_2_{0,1} + 8*g_{0,2}*φ_1_{0,2}**2*φ_2_{0,2}**2 - 12*g_{0,2}*φ_1_{0,2}**2*φ_2_{0,2} + 4*g_{0,2}*φ_1_{0,2}**2 + 8*g_{1,0}*φ_1_{0,1}*φ_1_{0,2}*φ_2_{0,2}**2 - 8*g_{1,0}*φ_1_{0,1}*φ_1_{0,2}*φ_2_{0,2} - 8*g_{1,0}*φ_1_{0,1}*φ_2_{0,2}**2 + 8*g_{1,0}*φ_1_{0,1}*φ_2_{0,2} + 8*g_{1,0}*φ_1_{0,2}**2*φ_2_{0,1}*φ_2_{0,2} - 4*g_{1,0}*φ_1_{0,2}**2*φ_2_{0,1} - 16*g_{1,0}*φ_1_{0,2}**2*φ_2_{0,2}**2 + 12*g_{1,0}*φ_1_{0,2}**2*φ_2_{0,2} - 16*g_{1,0}*φ_1_{0,2}*φ_2_{0,1}*φ_2_{0,2} + 8*g_{1,0}*φ_1_{0,2}*φ_2_{0,1} + 24*g_{1,0}*φ_1_{0,2}*φ_2_{0,2}**2 - 16*g_{1,0}*φ_1_{0,2}*φ_2_{0,2} + 8*g_{1,0}*φ_2_{0,1}*φ_2_{0,2} - 4*g_{1,0}*φ_2_{0,1} - 8*g_{1,0}*φ_2_{0,2}**2 + 4*g_{1,0}*φ_2_{0,2} - 16*g_{1,1}*φ_1_{0,1}*φ_1_{0,2}*φ_2_{0,2}**2 + 16*g_{1,1}*φ_1_{0,1}*φ_1_{0,2}*φ_2_{0,2} + 8*g_{1,1}*φ_1_{0,1}*φ_2_{0,2}**2 - 8*g_{1,1}*φ_1_{0,1}*φ_2_{0,2} - 16*g_{1,1}*φ_1_{0,2}**2*φ_2_{0,1}*φ_2_{0,2} + 8*g_{1,1}*φ_1_{0,2}**2*φ_2_{0,1} + 32*g_{1,1}*φ_1_{0,2}**2*φ_2_{0,2}**2 - 24*g_{1,1}*φ_1_{0,2}**2*φ_2_{0,2} + 16*g_{1,1}*φ_1_{0,2}*φ_2_{0,1}*φ_2_{0,2} - 8*g_{1,1}*φ_1_{0,2}*φ_2_{0,1} - 24*g_{1,1}*φ_1_{0,2}*φ_2_{0,2}**2 + 16*g_{1,1}*φ_1_{0,2}*φ_2_{0,2} + 8*g_{1,2}*φ_1_{0,1}*φ_1_{0,2}*φ_2_{0,2}**2 - 8*g_{1,2}*φ_1_{0,1}*φ_1_{0,2}*φ_2_{0,2} + 8*g_{1,2}*φ_1_{0,2}**2*φ_2_{0,1}*φ_2_{0,2} - 4*g_{1,2}*φ_1_{0,2}**2*φ_2_{0,1} - 16*g_{1,2}*φ_1_{0,2}**2*φ_2_{0,2}**2 + 12*g_{1,2}*φ_1_{0,2}**2*φ_2_{0,2} - 4*g_{2,0}*φ_1_{0,1}*φ_1_{0,2}*φ_2_{0,2}**2 + 4*g_{2,0}*φ_1_{0,1}*φ_2_{0,2}**2 - 4*g_{2,0}*φ_1_{0,2}**2*φ_2_{0,1}*φ_2_{0,2} + 8*g_{2,0}*φ_1_{0,2}**2*φ_2_{0,2}**2 + 8*g_{2,0}*φ_1_{0,2}*φ_2_{0,1}*φ_2_{0,2} - 12*g_{2,0}*φ_1_{0,2}*φ_2_{0,2}**2 - 4*g_{2,0}*φ_2_{0,1}*φ_2_{0,2} + 4*g_{2,0}*φ_2_{0,2}**2 + 8*g_{2,1}*φ_1_{0,1}*φ_1_{0,2}*φ_2_{0,2}**2 - 4*g_{2,1}*φ_1_{0,1}*φ_2_{0,2}**2 + 8*g_{2,1}*φ_1_{0,2}**2*φ_2_{0,1}*φ_2_{0,2} - 16*g_{2,1}*φ_1_{0,2}**2*φ_2_{0,2}**2 - 8*g_{2,1}*φ_1_{0,2}*φ_2_{0,1}*φ_2_{0,2} + 12*g_{2,1}*φ_1_{0,2}*φ_2_{0,2}**2 - 4*g_{2,2}*φ_1_{0,1}*φ_1_{0,2}*φ_2_{0,2}**2 - 4*g_{2,2}*φ_1_{0,2}**2*φ_2_{0,1}*φ_2_{0,2} + 8*g_{2,2}*φ_1_{0,2}**2*φ_2_{0,2}**2, f_{0,1}, f_{0,2}, g_{0,0}, g_{0,1}, g_{0,2}, g_{1,0}, g_{1,1}, g_{1,2}, g_{2,0}, g_{2,1}, g_{2,2}, φ_1_{0,1}, φ_1_{0,2}, φ_2_{0,1}, φ_2_{0,2}, domain='ZZ')"
      ]
     },
     "execution_count": 13,
     "metadata": {},
     "output_type": "execute_result"
    }
   ],
   "source": [
    "Poly(exp[0].subs({x:1}))"
   ]
  },
  {
   "cell_type": "code",
   "execution_count": 91,
   "id": "5d62e268",
   "metadata": {},
   "outputs": [
    {
     "data": {
      "text/latex": [
       "$\\displaystyle \\left(v \\frac{\\partial}{\\partial v} k{\\left(u,v \\right)} + k{\\left(u,v \\right)}\\right) \\left. \\frac{\\partial}{\\partial \\xi_{2}} f{\\left(u \\left(v p{\\left(u,v \\right)} + 1\\right) + v q{\\left(u,v \\right)},\\xi_{2} \\right)} \\right|_{\\substack{ \\xi_{2}=v k{\\left(u,v \\right)} }} + \\left(u \\left(v \\frac{\\partial}{\\partial v} p{\\left(u,v \\right)} + p{\\left(u,v \\right)}\\right) + v \\frac{\\partial}{\\partial v} q{\\left(u,v \\right)} + q{\\left(u,v \\right)}\\right) \\left. \\frac{\\partial}{\\partial \\xi_{1}} f{\\left(\\xi_{1},v k{\\left(u,v \\right)} \\right)} \\right|_{\\substack{ \\xi_{1}=u \\left(v p{\\left(u,v \\right)} + 1\\right) + v q{\\left(u,v \\right)} }} - \\frac{\\partial}{\\partial v} g{\\left(u,v \\right)}$"
      ],
      "text/plain": [
       "(v*Derivative(k(u, v), v) + k(u, v))*Subs(Derivative(f(u*(v*p(u, v) + 1) + v*q(u, v), _xi_2), _xi_2), _xi_2, v*k(u, v)) + (u*(v*Derivative(p(u, v), v) + p(u, v)) + v*Derivative(q(u, v), v) + q(u, v))*Subs(Derivative(f(_xi_1, v*k(u, v)), _xi_1), _xi_1, u*(v*p(u, v) + 1) + v*q(u, v)) - Derivative(g(u, v), v)"
      ]
     },
     "execution_count": 91,
     "metadata": {},
     "output_type": "execute_result"
    }
   ],
   "source": [
    "from symtable import Symbol\n",
    "from BezierFunction import Bezier\n",
    "import numpy as np \n",
    "from sympy import *\n",
    "u=Symbol('u')\n",
    "v=Symbol('v')\n",
    "k=Function('k')(u,v)\n",
    "p=Function('p')(u,v)\n",
    "q=Function('q')(u,v)\n",
    "def phi_2(u,v):\n",
    "    return v*k(u, v);\n",
    "\n",
    "\n",
    "class p(Function):\n",
    "    @classmethod\n",
    "    def eval(cls, u,v):\n",
    "        pass\n",
    "class k(Function):\n",
    "    @classmethod\n",
    "    def eval(cls, u,v):\n",
    "        pass\n",
    "class q(Function):\n",
    "    @classmethod\n",
    "    def eval(cls, u,v):\n",
    "        pass\n",
    "class f(Function):\n",
    "    @classmethod\n",
    "    def eval(cls, u,v):\n",
    "        pass\n",
    "class g(Function):\n",
    "    @classmethod\n",
    "    def eval(cls, u,v):\n",
    "        pass\n",
    "\n",
    "class phi_1(Function):\n",
    "    @classmethod\n",
    "    def eval(cls, u,v):\n",
    "        return u*(1 + v*p(u, v)) + v*q(u, v);\n",
    "class phi_2(Function):\n",
    "    @classmethod\n",
    "    def eval(cls, u,v):\n",
    "        return v*k(u, v);\n",
    "class expr(Function):\n",
    "    @classmethod\n",
    "    def eval(cls, u,v):\n",
    "        return f(phi_1(u, v), phi_2(u, v))-g(u,v)\n",
    "diffExpr=expr(u,v).diff(v)\n",
    "diffExpr#.subs(v,0)"
   ]
  },
  {
   "cell_type": "code",
   "execution_count": 89,
   "id": "bc57854c",
   "metadata": {},
   "outputs": [
    {
     "data": {
      "text/latex": [
       "$\\displaystyle \\left(u p{\\left(u,0 \\right)} + q{\\left(u,0 \\right)}\\right) \\left(\\left(u p{\\left(u,0 \\right)} + q{\\left(u,0 \\right)}\\right) \\left. \\frac{d^{2}}{d \\xi_{1}^{2}} f{\\left(\\xi_{1},0 \\right)} \\right|_{\\substack{ \\xi_{1}=u }} + k{\\left(u,0 \\right)} \\left. \\frac{\\partial^{2}}{\\partial _u*(v*p(u, v) + 1) + v*q(u, v)\\partial \\xi_{2}} f{\\left(_u*(v*p(u, v) + 1) + v*q(u, v),\\xi_{2} \\right)} \\right|_{\\substack{ \\xi_{2}=0 }}\\right) + \\left(2 u \\left. \\frac{\\partial}{\\partial v} p{\\left(u,v \\right)} \\right|_{\\substack{ v=0 }} + 2 \\left. \\frac{\\partial}{\\partial v} q{\\left(u,v \\right)} \\right|_{\\substack{ v=0 }}\\right) \\left. \\frac{d}{d \\xi_{1}} f{\\left(\\xi_{1},0 \\right)} \\right|_{\\substack{ \\xi_{1}=u }} + \\left(\\left(u p{\\left(u,0 \\right)} + q{\\left(u,0 \\right)}\\right) \\left. \\frac{\\partial^{2}}{\\partial _v*k(u, v)\\partial \\xi_{1}} f{\\left(\\xi_{1},_v*k(u, v) \\right)} \\right|_{\\substack{ \\xi_{1}=u }} + k{\\left(u,0 \\right)} \\left. \\frac{\\partial^{2}}{\\partial \\xi_{2}^{2}} f{\\left(u,\\xi_{2} \\right)} \\right|_{\\substack{ \\xi_{2}=0 }}\\right) k{\\left(u,0 \\right)} + 2 \\left. \\frac{\\partial}{\\partial \\xi_{2}} f{\\left(u,\\xi_{2} \\right)} \\right|_{\\substack{ \\xi_{2}=0 }} \\left. \\frac{\\partial}{\\partial v} k{\\left(u,v \\right)} \\right|_{\\substack{ v=0 }} - \\left. \\frac{\\partial^{2}}{\\partial v^{2}} g{\\left(u,v \\right)} \\right|_{\\substack{ v=0 }}$"
      ],
      "text/plain": [
       "(u*p(u, 0) + q(u, 0))*((u*p(u, 0) + q(u, 0))*Subs(Derivative(f(_xi_1, 0), (_xi_1, 2)), _xi_1, u) + k(u, 0)*Subs(Derivative(f(_u*(v*p(u, v) + 1) + v*q(u, v), _xi_2), _xi_2, _u*(v*p(u, v) + 1) + v*q(u, v)), _xi_2, 0)) + (2*u*Subs(Derivative(p(u, v), v), v, 0) + 2*Subs(Derivative(q(u, v), v), v, 0))*Subs(Derivative(f(_xi_1, 0), _xi_1), _xi_1, u) + ((u*p(u, 0) + q(u, 0))*Subs(Derivative(f(_xi_1, _v*k(u, v)), _xi_1, _v*k(u, v)), _xi_1, u) + k(u, 0)*Subs(Derivative(f(u, _xi_2), (_xi_2, 2)), _xi_2, 0))*k(u, 0) + 2*Subs(Derivative(f(u, _xi_2), _xi_2), _xi_2, 0)*Subs(Derivative(k(u, v), v), v, 0) - Subs(Derivative(g(u, v), (v, 2)), v, 0)"
      ]
     },
     "execution_count": 89,
     "metadata": {},
     "output_type": "execute_result"
    }
   ],
   "source": []
  },
  {
   "cell_type": "code",
   "execution_count": 88,
   "id": "4859ec4f",
   "metadata": {},
   "outputs": [
    {
     "ename": "SyntaxError",
     "evalue": "invalid character '∂' (U+2202) (Temp/ipykernel_1048/3775776620.py, line 1)",
     "output_type": "error",
     "traceback": [
      "\u001b[1;36m  File \u001b[1;32m\"C:\\Users\\UTILIS~1\\AppData\\Local\\Temp/ipykernel_1048/3775776620.py\"\u001b[1;36m, line \u001b[1;32m1\u001b[0m\n\u001b[1;33m    ∂𝑣∗𝑘(𝑢,𝑣)∂𝜉1\u001b[0m\n\u001b[1;37m    ^\u001b[0m\n\u001b[1;31mSyntaxError\u001b[0m\u001b[1;31m:\u001b[0m invalid character '∂' (U+2202)\n"
     ]
    }
   ],
   "source": []
  },
  {
   "cell_type": "code",
   "execution_count": 76,
   "id": "894cd556",
   "metadata": {},
   "outputs": [
    {
     "ename": "SyntaxError",
     "evalue": "invalid syntax (Temp/ipykernel_1048/2001150041.py, line 2)",
     "output_type": "error",
     "traceback": [
      "\u001b[1;36m  File \u001b[1;32m\"C:\\Users\\UTILIS~1\\AppData\\Local\\Temp/ipykernel_1048/2001150041.py\"\u001b[1;36m, line \u001b[1;32m2\u001b[0m\n\u001b[1;33m    simplify(expp).subs(v,0):\u001b[0m\n\u001b[1;37m                             ^\u001b[0m\n\u001b[1;31mSyntaxError\u001b[0m\u001b[1;31m:\u001b[0m invalid syntax\n"
     ]
    }
   ],
   "source": [
    "expp=expr(u,v).diff(v).diff(v)\n",
    "simplify(expp).subs(v,0)\n",
    "    "
   ]
  },
  {
   "cell_type": "code",
   "execution_count": null,
   "id": "127f41b4",
   "metadata": {},
   "outputs": [],
   "source": [
    "(𝑣∂∂𝑣𝑘(𝑢,𝑣)+𝑘(𝑢,𝑣))∂∂𝜉2𝑓(𝑢(𝑣𝑝(𝑢,𝑣)+1)+𝑣𝑞(𝑢,𝑣),𝜉2)||||𝜉2=𝑣𝑘(𝑢,𝑣)+(𝑢(𝑣∂∂𝑣𝑝(𝑢,𝑣)+𝑝(𝑢,𝑣))+𝑣∂∂𝑣𝑞(𝑢,𝑣)+𝑞(𝑢,𝑣))∂∂𝜉1𝑓(𝜉1,𝑣𝑘(𝑢,𝑣))||||𝜉1=𝑢(𝑣𝑝(𝑢,𝑣)+1)+𝑣𝑞(𝑢,𝑣)−∂∂𝑣𝑔(𝑢,𝑣)\n"
   ]
  },
  {
   "cell_type": "code",
   "execution_count": 65,
   "id": "2a4150e3",
   "metadata": {},
   "outputs": [
    {
     "data": {
      "text/latex": [
       "$\\displaystyle \\left(u p{\\left(u,0 \\right)} + q{\\left(u,0 \\right)}\\right) \\left. \\frac{d}{d \\xi_{1}} f{\\left(\\xi_{1},0 \\right)} \\right|_{\\substack{ \\xi_{1}=u }} + k{\\left(u,0 \\right)} \\left. \\frac{\\partial}{\\partial \\xi_{2}} f{\\left(u,\\xi_{2} \\right)} \\right|_{\\substack{ \\xi_{2}=0 }} - \\left. \\frac{\\partial}{\\partial v} g{\\left(u,v \\right)} \\right|_{\\substack{ v=0 }}$"
      ],
      "text/plain": [
       "(u*p(u, 0) + q(u, 0))*Subs(Derivative(f(_xi_1, 0), _xi_1), _xi_1, u) + k(u, 0)*Subs(Derivative(f(u, _xi_2), _xi_2), _xi_2, 0) - Subs(Derivative(g(u, v), v), v, 0)"
      ]
     },
     "execution_count": 65,
     "metadata": {},
     "output_type": "execute_result"
    }
   ],
   "source": []
  },
  {
   "cell_type": "code",
   "execution_count": 48,
   "id": "eb71cccd",
   "metadata": {},
   "outputs": [
    {
     "data": {
      "text/latex": [
       "$\\displaystyle u v \\frac{\\partial}{\\partial u} p{\\left(u,v \\right)} + v p{\\left(u,v \\right)} + v \\frac{\\partial}{\\partial u} q{\\left(u,v \\right)} + 1$"
      ],
      "text/plain": [
       "u*v*Derivative(p(u, v), u) + v*p(u, v) + v*Derivative(q(u, v), u) + 1"
      ]
     },
     "execution_count": 48,
     "metadata": {},
     "output_type": "execute_result"
    }
   ],
   "source": [
    "phi_1(u,v).diff(u)"
   ]
  }
 ],
 "metadata": {
  "kernelspec": {
   "display_name": "Python 3.9.5",
   "language": "python",
   "name": "python3"
  },
  "language_info": {
   "codemirror_mode": {
    "name": "ipython",
    "version": 3
   },
   "file_extension": ".py",
   "mimetype": "text/x-python",
   "name": "python",
   "nbconvert_exporter": "python",
   "pygments_lexer": "ipython3",
   "version": "3.9.12"
  },
  "vscode": {
   "interpreter": {
    "hash": "09a072aac84b9f10f6751d2f2e6ae58ba5db8fdced3e7e3f283267caf9bf6083"
   }
  }
 },
 "nbformat": 4,
 "nbformat_minor": 5
}
